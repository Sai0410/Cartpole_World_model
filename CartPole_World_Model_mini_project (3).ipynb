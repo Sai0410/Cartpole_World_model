{
  "nbformat": 4,
  "nbformat_minor": 0,
  "metadata": {
    "colab": {
      "provenance": []
    },
    "kernelspec": {
      "name": "python3",
      "display_name": "Python 3"
    },
    "language_info": {
      "name": "python"
    }
  },
  "cells": [
    {
      "cell_type": "code",
      "source": [
        "!pip install torch gymnasium[classic-control] numpy"
      ],
      "metadata": {
        "colab": {
          "base_uri": "https://localhost:8080/"
        },
        "collapsed": true,
        "id": "rxxq0hloHFPJ",
        "outputId": "a6df77eb-e612-4c66-daba-5d9ceecb1420"
      },
      "execution_count": 72,
      "outputs": [
        {
          "output_type": "stream",
          "name": "stdout",
          "text": [
            "Requirement already satisfied: torch in /usr/local/lib/python3.11/dist-packages (2.6.0+cu124)\n",
            "Requirement already satisfied: numpy in /usr/local/lib/python3.11/dist-packages (2.0.2)\n",
            "Requirement already satisfied: gymnasium[classic-control] in /usr/local/lib/python3.11/dist-packages (1.2.0)\n",
            "Requirement already satisfied: filelock in /usr/local/lib/python3.11/dist-packages (from torch) (3.18.0)\n",
            "Requirement already satisfied: typing-extensions>=4.10.0 in /usr/local/lib/python3.11/dist-packages (from torch) (4.14.1)\n",
            "Requirement already satisfied: networkx in /usr/local/lib/python3.11/dist-packages (from torch) (3.5)\n",
            "Requirement already satisfied: jinja2 in /usr/local/lib/python3.11/dist-packages (from torch) (3.1.6)\n",
            "Requirement already satisfied: fsspec in /usr/local/lib/python3.11/dist-packages (from torch) (2025.3.0)\n",
            "Requirement already satisfied: nvidia-cuda-nvrtc-cu12==12.4.127 in /usr/local/lib/python3.11/dist-packages (from torch) (12.4.127)\n",
            "Requirement already satisfied: nvidia-cuda-runtime-cu12==12.4.127 in /usr/local/lib/python3.11/dist-packages (from torch) (12.4.127)\n",
            "Requirement already satisfied: nvidia-cuda-cupti-cu12==12.4.127 in /usr/local/lib/python3.11/dist-packages (from torch) (12.4.127)\n",
            "Requirement already satisfied: nvidia-cudnn-cu12==9.1.0.70 in /usr/local/lib/python3.11/dist-packages (from torch) (9.1.0.70)\n",
            "Requirement already satisfied: nvidia-cublas-cu12==12.4.5.8 in /usr/local/lib/python3.11/dist-packages (from torch) (12.4.5.8)\n",
            "Requirement already satisfied: nvidia-cufft-cu12==11.2.1.3 in /usr/local/lib/python3.11/dist-packages (from torch) (11.2.1.3)\n",
            "Requirement already satisfied: nvidia-curand-cu12==10.3.5.147 in /usr/local/lib/python3.11/dist-packages (from torch) (10.3.5.147)\n",
            "Requirement already satisfied: nvidia-cusolver-cu12==11.6.1.9 in /usr/local/lib/python3.11/dist-packages (from torch) (11.6.1.9)\n",
            "Requirement already satisfied: nvidia-cusparse-cu12==12.3.1.170 in /usr/local/lib/python3.11/dist-packages (from torch) (12.3.1.170)\n",
            "Requirement already satisfied: nvidia-cusparselt-cu12==0.6.2 in /usr/local/lib/python3.11/dist-packages (from torch) (0.6.2)\n",
            "Requirement already satisfied: nvidia-nccl-cu12==2.21.5 in /usr/local/lib/python3.11/dist-packages (from torch) (2.21.5)\n",
            "Requirement already satisfied: nvidia-nvtx-cu12==12.4.127 in /usr/local/lib/python3.11/dist-packages (from torch) (12.4.127)\n",
            "Requirement already satisfied: nvidia-nvjitlink-cu12==12.4.127 in /usr/local/lib/python3.11/dist-packages (from torch) (12.4.127)\n",
            "Requirement already satisfied: triton==3.2.0 in /usr/local/lib/python3.11/dist-packages (from torch) (3.2.0)\n",
            "Requirement already satisfied: sympy==1.13.1 in /usr/local/lib/python3.11/dist-packages (from torch) (1.13.1)\n",
            "Requirement already satisfied: mpmath<1.4,>=1.1.0 in /usr/local/lib/python3.11/dist-packages (from sympy==1.13.1->torch) (1.3.0)\n",
            "Requirement already satisfied: cloudpickle>=1.2.0 in /usr/local/lib/python3.11/dist-packages (from gymnasium[classic-control]) (3.1.1)\n",
            "Requirement already satisfied: farama-notifications>=0.0.1 in /usr/local/lib/python3.11/dist-packages (from gymnasium[classic-control]) (0.0.4)\n",
            "Requirement already satisfied: pygame>=2.1.3 in /usr/local/lib/python3.11/dist-packages (from gymnasium[classic-control]) (2.6.1)\n",
            "Requirement already satisfied: MarkupSafe>=2.0 in /usr/local/lib/python3.11/dist-packages (from jinja2->torch) (3.0.2)\n"
          ]
        }
      ]
    },
    {
      "cell_type": "code",
      "execution_count": 73,
      "metadata": {
        "colab": {
          "base_uri": "https://localhost:8080/"
        },
        "id": "UbxAhQeuGsyR",
        "outputId": "359cdb21-57aa-41f0-d18c-0e1ba878c50e"
      },
      "outputs": [
        {
          "output_type": "stream",
          "name": "stdout",
          "text": [
            "Drive already mounted at /content/drive; to attempt to forcibly remount, call drive.mount(\"/content/drive\", force_remount=True).\n"
          ]
        }
      ],
      "source": [
        "from google.colab import drive\n",
        "drive.mount('/content/drive')\n"
      ]
    },
    {
      "cell_type": "code",
      "source": [
        "import os\n",
        "BASE = \"/content/drive/MyDrive/Cartpole_world_model\"\n",
        "os.makedirs(f\"{BASE}/data\", exist_ok=True)\n",
        "os.makedirs(f\"{BASE}/models\", exist_ok=True)\n",
        "os.makedirs(f\"{BASE}/plots\",  exist_ok=True)\n",
        "os.makedirs(f\"{BASE}/src\",    exist_ok=True)\n",
        "print(\"Project at:\", BASE)"
      ],
      "metadata": {
        "colab": {
          "base_uri": "https://localhost:8080/"
        },
        "id": "6pglDqFNjX7d",
        "outputId": "15b0ffd2-7590-42a1-b59e-32180d02cb4f"
      },
      "execution_count": 74,
      "outputs": [
        {
          "output_type": "stream",
          "name": "stdout",
          "text": [
            "Project at: /content/drive/MyDrive/Cartpole_world_model\n"
          ]
        }
      ]
    },
    {
      "cell_type": "code",
      "source": [
        "%%writefile src/collect.py\n",
        "import gymnasium as gym\n",
        "import numpy as np\n",
        "\n",
        "out_path = \"/content/drive/MyDrive/Cartpole_world_model/data/cartpole_data.npz\"\n",
        "\n",
        "def collect(episodes: int, out_path: str, seed: int = 0, render: bool = False):\n",
        "    env = gym.make('CartPole-v1', render_mode='rgb_array' if render else None)\n",
        "    env.action_space.seed(seed)\n",
        "    env.reset(seed=seed)\n",
        "\n",
        "    states, actions, next_states, rewards, dones = [], [], [], [], []\n",
        "\n",
        "    for ep in range(episodes):\n",
        "        print(f\"Episode {ep+1}/{episodes}\")\n",
        "        s, _ = env.reset()\n",
        "        done = False\n",
        "        while not done:\n",
        "            a = env.action_space.sample()\n",
        "            s2, r, terminated, truncated, _ = env.step(a)\n",
        "            done = terminated or truncated\n",
        "\n",
        "            states.append(s.astype(np.float32))\n",
        "            actions.append(int(a))\n",
        "            next_states.append(s2.astype(np.float32))\n",
        "            rewards.append(np.float32(r))\n",
        "            dones.append(bool(done))\n",
        "\n",
        "            s = s2\n",
        "\n",
        "    states = np.asarray(states, dtype=np.float32)\n",
        "    actions = np.asarray(actions, dtype=np.int64)\n",
        "    next_states = np.asarray(next_states, dtype=np.float32)\n",
        "    rewards = np.asarray(rewards, dtype=np.float32)\n",
        "    dones = np.asarray(dones, dtype=bool)\n",
        "\n",
        "    np.savez_compressed(out_path, states=states, actions=actions,\n",
        "                        next_states=next_states, rewards=rewards, dones=dones)\n",
        "    print(f\"Saved dataset with {states.shape[0]} samples to {out_path}\")\n",
        "\n",
        "if __name__ == \"__main__\":\n",
        "    collect(episodes=100, out_path=out_path)"
      ],
      "metadata": {
        "colab": {
          "base_uri": "https://localhost:8080/"
        },
        "id": "DG-fabfXJmyw",
        "outputId": "0fbd73ba-96e0-481e-cc05-2cc41c5e525c"
      },
      "execution_count": 75,
      "outputs": [
        {
          "output_type": "stream",
          "name": "stdout",
          "text": [
            "Overwriting src/collect.py\n"
          ]
        }
      ]
    },
    {
      "cell_type": "code",
      "source": [
        "%%writefile /content/drive/MyDrive/Cartpole_world_model/src/collect.py"
      ],
      "metadata": {
        "colab": {
          "base_uri": "https://localhost:8080/"
        },
        "collapsed": true,
        "id": "y994KYseatJb",
        "outputId": "ba707a07-237a-40b5-df15-a0ee3588ad1f"
      },
      "execution_count": 76,
      "outputs": [
        {
          "output_type": "stream",
          "name": "stdout",
          "text": [
            "Overwriting /content/drive/MyDrive/Cartpole_world_model/src/collect.py\n"
          ]
        }
      ]
    },
    {
      "cell_type": "code",
      "source": [
        "%%writefile /content/drive/MyDrive/Cartpole_world_model/src/train_bc.py\n",
        "import torch\n",
        "import torch.nn as nn\n",
        "import torch.optim as optim\n",
        "import numpy as np\n",
        "import os\n",
        "\n",
        "data_path = \"/content/drive/MyDrive/Cartpole_world_model/data/cartpole_data.npz\"\n",
        "model_path = \"/content/drive/MyDrive/Cartpole_world_model/models/policy_net.pt\"\n",
        "\n",
        "\n",
        "data = np.load(data_path)\n",
        "states = torch.tensor(data[\"states\"], dtype=torch.float32)\n",
        "actions = torch.tensor(data[\"actions\"], dtype=torch.long)\n",
        "\n",
        "\n",
        "class PolicyNet(nn.Module):\n",
        "    def __init__(self):\n",
        "        super().__init__()\n",
        "        self.net = nn.Sequential(\n",
        "            nn.Linear(4, 64),\n",
        "            nn.ReLU(),\n",
        "            nn.Linear(64, 2)\n",
        "        )\n",
        "    def forward(self, x):\n",
        "        return self.net(x)\n",
        "\n",
        "\n",
        "model = PolicyNet()\n",
        "criterion = nn.CrossEntropyLoss()\n",
        "optimizer = optim.Adam(model.parameters(), lr=1e-3)\n",
        "\n",
        "\n",
        "epochs = 20\n",
        "for epoch in range(epochs):\n",
        "    optimizer.zero_grad()\n",
        "    outputs = model(states)\n",
        "    loss = criterion(outputs, actions)\n",
        "    loss.backward()\n",
        "    optimizer.step()\n",
        "    print(f\"Epoch {epoch+1}/{epochs}, Loss: {loss.item():.4f}\")\n",
        "\n",
        "\n",
        "os.makedirs(os.path.dirname(model_path), exist_ok=True)\n",
        "torch.save(model.state_dict(), model_path)\n",
        "print(f\"Model saved to {model_path}\")"
      ],
      "metadata": {
        "colab": {
          "base_uri": "https://localhost:8080/"
        },
        "id": "sZl30QCNcGCx",
        "outputId": "0b90ef4d-41db-4362-92f4-bbe1c85df55a"
      },
      "execution_count": 77,
      "outputs": [
        {
          "output_type": "stream",
          "name": "stdout",
          "text": [
            "Overwriting /content/drive/MyDrive/Cartpole_world_model/src/train_bc.py\n"
          ]
        }
      ]
    },
    {
      "cell_type": "code",
      "source": [
        "!python /content/drive/MyDrive/Cartpole_world_model/src/train_bc.py\n"
      ],
      "metadata": {
        "colab": {
          "base_uri": "https://localhost:8080/"
        },
        "id": "lTjVRHF8fSH5",
        "outputId": "84ba36f4-e7a6-446b-f496-175261db527c"
      },
      "execution_count": 78,
      "outputs": [
        {
          "output_type": "stream",
          "name": "stdout",
          "text": [
            "Epoch 1/20, Loss: 0.6954\n",
            "Epoch 2/20, Loss: 0.6946\n",
            "Epoch 3/20, Loss: 0.6940\n",
            "Epoch 4/20, Loss: 0.6935\n",
            "Epoch 5/20, Loss: 0.6930\n",
            "Epoch 6/20, Loss: 0.6927\n",
            "Epoch 7/20, Loss: 0.6924\n",
            "Epoch 8/20, Loss: 0.6922\n",
            "Epoch 9/20, Loss: 0.6921\n",
            "Epoch 10/20, Loss: 0.6921\n",
            "Epoch 11/20, Loss: 0.6920\n",
            "Epoch 12/20, Loss: 0.6920\n",
            "Epoch 13/20, Loss: 0.6920\n",
            "Epoch 14/20, Loss: 0.6920\n",
            "Epoch 15/20, Loss: 0.6920\n",
            "Epoch 16/20, Loss: 0.6920\n",
            "Epoch 17/20, Loss: 0.6920\n",
            "Epoch 18/20, Loss: 0.6919\n",
            "Epoch 19/20, Loss: 0.6919\n",
            "Epoch 20/20, Loss: 0.6918\n",
            "Model saved to /content/drive/MyDrive/Cartpole_world_model/models/policy_net.pt\n"
          ]
        }
      ]
    },
    {
      "cell_type": "code",
      "source": [
        "%%writefile /content/drive/MyDrive/Cartpole_world_model/src/train_bc.py\n",
        "\n",
        "import gymnasium as gym\n",
        "import torch\n",
        "import torch.nn as nn\n",
        "import numpy as np\n",
        "\n",
        "class PolicyNet(nn.Module):\n",
        "  def __init__(self):\n",
        "    super().__init__()\n",
        "    self.net = nn.Sequential(\n",
        "        nn.Linear(4, 64),\n",
        "        nn.ReLU(),\n",
        "        nn.Linear(64, 2)\n",
        "    )\n",
        "\n",
        "  def forward(self, x):\n",
        "    return self.net(x)\n",
        "\n",
        "\n",
        "model = PolicyNet()\n",
        "model.load_state_dict(torch.load('/content/drive/MyDrive/Cartpole_world_model/models/policy_net.pt'))\n",
        "model.eval()\n",
        "\n",
        "env = gym.make('CartPole-v1', render_mode='human')\n",
        "\n",
        "for episode in range(5):\n",
        "    state, _ = env.reset()\n",
        "    total_reward = 0\n",
        "    done = False\n",
        "    while not done:\n",
        "        state_t = torch.tensor(state, dtype=torch.float32).unsqueeze(0)\n",
        "        with torch.no_grad():\n",
        "            action = model(state_t).argmax(dim=1).item()\n",
        "        state, reward, terminated, truncated, _ = env.step(action)\n",
        "        total_reward += reward\n",
        "        done = terminated or truncated\n",
        "    print(f\"Episode {episode+1}: Total Reward = {total_reward}\")\n",
        "\n",
        "env.close()"
      ],
      "metadata": {
        "colab": {
          "base_uri": "https://localhost:8080/"
        },
        "id": "uQ0I3i_QT9Ih",
        "outputId": "4c4e1c78-43a9-40ff-b947-58ee15797ec5"
      },
      "execution_count": 79,
      "outputs": [
        {
          "output_type": "stream",
          "name": "stdout",
          "text": [
            "Overwriting /content/drive/MyDrive/Cartpole_world_model/src/train_bc.py\n"
          ]
        }
      ]
    },
    {
      "cell_type": "code",
      "source": [
        "%%writefile /content/drive/MyDrive/Cartpole_world_model/src/eval.py\n"
      ],
      "metadata": {
        "colab": {
          "base_uri": "https://localhost:8080/"
        },
        "id": "OYH7yU1lfXFk",
        "outputId": "67ea8b0b-458f-4879-d447-b1031acdab54"
      },
      "execution_count": 80,
      "outputs": [
        {
          "output_type": "stream",
          "name": "stdout",
          "text": [
            "Overwriting /content/drive/MyDrive/Cartpole_world_model/src/eval.py\n"
          ]
        }
      ]
    },
    {
      "cell_type": "code",
      "source": [
        "import gymnasium as gym\n",
        "import torch\n",
        "import torch.nn as nn\n",
        "import torch.optim as optim\n",
        "import numpy as np\n",
        "import random\n",
        "from collections import deque\n",
        "import matplotlib.pyplot as plt\n",
        "import os\n",
        "\n",
        "model_path = \"/content/drive/MyDrive/Cartpole_world_model/models/policy_net.pt\"\n",
        "finetuned_model_path = \"/content/drive/MyDrive/Cartpole_world_model/models/policy_net_finetuned.pt\"\n",
        "\n",
        "\n",
        "replay_buffer = deque(maxlen=5000)\n",
        "\n",
        "class PolicyNet(nn.Module):\n",
        "    def __init__(self):\n",
        "        super().__init__()\n",
        "        self.net = nn.Sequential(\n",
        "            nn.Linear(4, 64),\n",
        "            nn.ReLU(),\n",
        "            nn.Linear(64, 2)\n",
        "        )\n",
        "    def forward(self, x):\n",
        "        return self.net(x)\n",
        "\n",
        "\n",
        "model = PolicyNet()\n",
        "model.load_state_dict(torch.load(model_path))\n",
        "target_model = PolicyNet()\n",
        "target_model.load_state_dict(model.state_dict())\n",
        "optimizer = optim.Adam(model.parameters(), lr=1e-3)\n",
        "\n",
        "GAMMA = 0.99\n",
        "BATCH_SIZE = 64\n",
        "EPSILON = 0.1\n",
        "EPISODES = 200\n",
        "\n",
        "def select_action(state):\n",
        "    if random.random() < EPSILON:\n",
        "        return random.randint(0, 1)\n",
        "    with torch.no_grad():\n",
        "        return model(torch.tensor(state, dtype=torch.float32).unsqueeze(0)).argmax(dim=1).item()\n",
        "\n",
        "def optimize():\n",
        "    if len(replay_buffer) < BATCH_SIZE:\n",
        "        return\n",
        "    batch = random.sample(replay_buffer, BATCH_SIZE)\n",
        "    states, actions, rewards, next_states, dones = zip(*batch)\n",
        "    states = torch.tensor(states, dtype=torch.float32)\n",
        "    actions = torch.tensor(actions, dtype=torch.int64).unsqueeze(1)\n",
        "    rewards = torch.tensor(rewards, dtype=torch.float32).unsqueeze(1)\n",
        "    next_states = torch.tensor(next_states, dtype=torch.float32)\n",
        "    dones = torch.tensor(dones, dtype=torch.float32).unsqueeze(1)\n",
        "\n",
        "    q_values = model(states).gather(1, actions)\n",
        "    next_q_values = target_model(next_states).max(1)[0].unsqueeze(1).detach()\n",
        "    target = rewards + GAMMA * next_q_values * (1 - dones)\n",
        "\n",
        "    loss = nn.MSELoss()(q_values, target)\n",
        "    optimizer.zero_grad()\n",
        "    loss.backward()\n",
        "    optimizer.step()\n",
        "\n",
        "env = gym.make('CartPole-v1')\n",
        "reward_history = []\n",
        "\n",
        "for ep in range(EPISODES):\n",
        "    state, _ = env.reset()\n",
        "    total_reward = 0\n",
        "    done = False\n",
        "    while not done:\n",
        "        action = select_action(state)\n",
        "        next_state, reward, terminated, truncated, _ = env.step(action)\n",
        "        done = terminated or truncated\n",
        "        replay_buffer.append((state, action, reward, next_state, done))\n",
        "        state = next_state\n",
        "        total_reward += reward\n",
        "        optimize()\n",
        "    reward_history.append(total_reward)\n",
        "\n",
        "\n",
        "    if ep % 10 == 0:\n",
        "        target_model.load_state_dict(model.state_dict())\n",
        "\n",
        "    print(f\"Episode {ep+1}/{EPISODES}, Reward: {total_reward}\")\n",
        "\n",
        "env.close()\n",
        "\n",
        "\n",
        "os.makedirs(os.path.dirname(finetuned_model_path), exist_ok=True)\n",
        "torch.save(model.state_dict(), finetuned_model_path)\n",
        "print(f\"Fine-tuned model saved to {finetuned_model_path}\")\n",
        "\n",
        "\n",
        "plt.plot(reward_history)\n",
        "plt.xlabel(\"Episode\")\n",
        "plt.ylabel(\"Reward\")\n",
        "plt.title(\"Fine-Tuning Performance\")\n",
        "plt.grid(True)\n",
        "plt.savefig(\"/content/drive/MyDrive/Cartpole_world_model/plots/fine_tuning_rewards.png\")\n",
        "plt.show()"
      ],
      "metadata": {
        "colab": {
          "base_uri": "https://localhost:8080/",
          "height": 1000
        },
        "id": "2ee1LTqigvh2",
        "outputId": "a5047ad8-98a4-4021-b96b-a799841c703e"
      },
      "execution_count": 81,
      "outputs": [
        {
          "output_type": "stream",
          "name": "stdout",
          "text": [
            "Episode 1/200, Reward: 9.0\n",
            "Episode 2/200, Reward: 9.0\n",
            "Episode 3/200, Reward: 9.0\n",
            "Episode 4/200, Reward: 10.0\n",
            "Episode 5/200, Reward: 10.0\n",
            "Episode 6/200, Reward: 9.0\n",
            "Episode 7/200, Reward: 10.0\n",
            "Episode 8/200, Reward: 9.0\n",
            "Episode 9/200, Reward: 11.0\n",
            "Episode 10/200, Reward: 9.0\n",
            "Episode 11/200, Reward: 9.0\n",
            "Episode 12/200, Reward: 11.0\n",
            "Episode 13/200, Reward: 12.0\n",
            "Episode 14/200, Reward: 9.0\n",
            "Episode 15/200, Reward: 8.0\n"
          ]
        },
        {
          "output_type": "stream",
          "name": "stderr",
          "text": [
            "/tmp/ipython-input-4174434418.py:51: UserWarning: Creating a tensor from a list of numpy.ndarrays is extremely slow. Please consider converting the list to a single numpy.ndarray with numpy.array() before converting to a tensor. (Triggered internally at /pytorch/torch/csrc/utils/tensor_new.cpp:254.)\n",
            "  states = torch.tensor(states, dtype=torch.float32)\n"
          ]
        },
        {
          "output_type": "stream",
          "name": "stdout",
          "text": [
            "Episode 16/200, Reward: 10.0\n",
            "Episode 17/200, Reward: 9.0\n",
            "Episode 18/200, Reward: 12.0\n",
            "Episode 19/200, Reward: 10.0\n",
            "Episode 20/200, Reward: 10.0\n",
            "Episode 21/200, Reward: 12.0\n",
            "Episode 22/200, Reward: 12.0\n",
            "Episode 23/200, Reward: 10.0\n",
            "Episode 24/200, Reward: 10.0\n",
            "Episode 25/200, Reward: 9.0\n",
            "Episode 26/200, Reward: 9.0\n",
            "Episode 27/200, Reward: 8.0\n",
            "Episode 28/200, Reward: 11.0\n",
            "Episode 29/200, Reward: 10.0\n",
            "Episode 30/200, Reward: 10.0\n",
            "Episode 31/200, Reward: 11.0\n",
            "Episode 32/200, Reward: 10.0\n",
            "Episode 33/200, Reward: 15.0\n",
            "Episode 34/200, Reward: 13.0\n",
            "Episode 35/200, Reward: 9.0\n",
            "Episode 36/200, Reward: 9.0\n",
            "Episode 37/200, Reward: 12.0\n",
            "Episode 38/200, Reward: 10.0\n",
            "Episode 39/200, Reward: 13.0\n",
            "Episode 40/200, Reward: 11.0\n",
            "Episode 41/200, Reward: 11.0\n",
            "Episode 42/200, Reward: 12.0\n",
            "Episode 43/200, Reward: 12.0\n",
            "Episode 44/200, Reward: 10.0\n",
            "Episode 45/200, Reward: 12.0\n",
            "Episode 46/200, Reward: 18.0\n",
            "Episode 47/200, Reward: 16.0\n",
            "Episode 48/200, Reward: 12.0\n",
            "Episode 49/200, Reward: 18.0\n",
            "Episode 50/200, Reward: 15.0\n",
            "Episode 51/200, Reward: 16.0\n",
            "Episode 52/200, Reward: 23.0\n",
            "Episode 53/200, Reward: 10.0\n",
            "Episode 54/200, Reward: 12.0\n",
            "Episode 55/200, Reward: 13.0\n",
            "Episode 56/200, Reward: 24.0\n",
            "Episode 57/200, Reward: 16.0\n",
            "Episode 58/200, Reward: 14.0\n",
            "Episode 59/200, Reward: 25.0\n",
            "Episode 60/200, Reward: 14.0\n",
            "Episode 61/200, Reward: 15.0\n",
            "Episode 62/200, Reward: 18.0\n",
            "Episode 63/200, Reward: 20.0\n",
            "Episode 64/200, Reward: 16.0\n",
            "Episode 65/200, Reward: 15.0\n",
            "Episode 66/200, Reward: 13.0\n",
            "Episode 67/200, Reward: 17.0\n",
            "Episode 68/200, Reward: 23.0\n",
            "Episode 69/200, Reward: 20.0\n",
            "Episode 70/200, Reward: 30.0\n",
            "Episode 71/200, Reward: 29.0\n",
            "Episode 72/200, Reward: 36.0\n",
            "Episode 73/200, Reward: 17.0\n",
            "Episode 74/200, Reward: 21.0\n",
            "Episode 75/200, Reward: 34.0\n",
            "Episode 76/200, Reward: 22.0\n",
            "Episode 77/200, Reward: 25.0\n",
            "Episode 78/200, Reward: 31.0\n",
            "Episode 79/200, Reward: 41.0\n",
            "Episode 80/200, Reward: 24.0\n",
            "Episode 81/200, Reward: 26.0\n",
            "Episode 82/200, Reward: 23.0\n",
            "Episode 83/200, Reward: 18.0\n",
            "Episode 84/200, Reward: 26.0\n",
            "Episode 85/200, Reward: 22.0\n",
            "Episode 86/200, Reward: 21.0\n",
            "Episode 87/200, Reward: 23.0\n",
            "Episode 88/200, Reward: 28.0\n",
            "Episode 89/200, Reward: 27.0\n",
            "Episode 90/200, Reward: 31.0\n",
            "Episode 91/200, Reward: 23.0\n",
            "Episode 92/200, Reward: 23.0\n",
            "Episode 93/200, Reward: 29.0\n",
            "Episode 94/200, Reward: 33.0\n",
            "Episode 95/200, Reward: 36.0\n",
            "Episode 96/200, Reward: 42.0\n",
            "Episode 97/200, Reward: 39.0\n",
            "Episode 98/200, Reward: 28.0\n",
            "Episode 99/200, Reward: 57.0\n",
            "Episode 100/200, Reward: 46.0\n",
            "Episode 101/200, Reward: 88.0\n",
            "Episode 102/200, Reward: 48.0\n",
            "Episode 103/200, Reward: 65.0\n",
            "Episode 104/200, Reward: 75.0\n",
            "Episode 105/200, Reward: 60.0\n",
            "Episode 106/200, Reward: 69.0\n",
            "Episode 107/200, Reward: 336.0\n",
            "Episode 108/200, Reward: 94.0\n",
            "Episode 109/200, Reward: 90.0\n",
            "Episode 110/200, Reward: 129.0\n",
            "Episode 111/200, Reward: 114.0\n",
            "Episode 112/200, Reward: 85.0\n",
            "Episode 113/200, Reward: 141.0\n",
            "Episode 114/200, Reward: 86.0\n",
            "Episode 115/200, Reward: 55.0\n",
            "Episode 116/200, Reward: 83.0\n",
            "Episode 117/200, Reward: 61.0\n",
            "Episode 118/200, Reward: 181.0\n",
            "Episode 119/200, Reward: 63.0\n",
            "Episode 120/200, Reward: 70.0\n",
            "Episode 121/200, Reward: 64.0\n",
            "Episode 122/200, Reward: 76.0\n",
            "Episode 123/200, Reward: 43.0\n",
            "Episode 124/200, Reward: 39.0\n",
            "Episode 125/200, Reward: 47.0\n",
            "Episode 126/200, Reward: 33.0\n",
            "Episode 127/200, Reward: 41.0\n",
            "Episode 128/200, Reward: 51.0\n",
            "Episode 129/200, Reward: 24.0\n",
            "Episode 130/200, Reward: 41.0\n",
            "Episode 131/200, Reward: 63.0\n",
            "Episode 132/200, Reward: 28.0\n",
            "Episode 133/200, Reward: 21.0\n",
            "Episode 134/200, Reward: 26.0\n",
            "Episode 135/200, Reward: 25.0\n",
            "Episode 136/200, Reward: 35.0\n",
            "Episode 137/200, Reward: 32.0\n",
            "Episode 138/200, Reward: 23.0\n",
            "Episode 139/200, Reward: 35.0\n",
            "Episode 140/200, Reward: 18.0\n",
            "Episode 141/200, Reward: 24.0\n",
            "Episode 142/200, Reward: 21.0\n",
            "Episode 143/200, Reward: 17.0\n",
            "Episode 144/200, Reward: 23.0\n",
            "Episode 145/200, Reward: 28.0\n",
            "Episode 146/200, Reward: 30.0\n",
            "Episode 147/200, Reward: 25.0\n",
            "Episode 148/200, Reward: 22.0\n",
            "Episode 149/200, Reward: 20.0\n",
            "Episode 150/200, Reward: 26.0\n",
            "Episode 151/200, Reward: 32.0\n",
            "Episode 152/200, Reward: 29.0\n",
            "Episode 153/200, Reward: 25.0\n",
            "Episode 154/200, Reward: 26.0\n",
            "Episode 155/200, Reward: 18.0\n",
            "Episode 156/200, Reward: 36.0\n",
            "Episode 157/200, Reward: 42.0\n",
            "Episode 158/200, Reward: 85.0\n",
            "Episode 159/200, Reward: 54.0\n",
            "Episode 160/200, Reward: 45.0\n",
            "Episode 161/200, Reward: 61.0\n",
            "Episode 162/200, Reward: 271.0\n",
            "Episode 163/200, Reward: 300.0\n",
            "Episode 164/200, Reward: 207.0\n",
            "Episode 165/200, Reward: 248.0\n",
            "Episode 166/200, Reward: 238.0\n",
            "Episode 167/200, Reward: 219.0\n",
            "Episode 168/200, Reward: 307.0\n",
            "Episode 169/200, Reward: 267.0\n",
            "Episode 170/200, Reward: 286.0\n",
            "Episode 171/200, Reward: 305.0\n",
            "Episode 172/200, Reward: 324.0\n",
            "Episode 173/200, Reward: 478.0\n",
            "Episode 174/200, Reward: 500.0\n",
            "Episode 175/200, Reward: 285.0\n",
            "Episode 176/200, Reward: 326.0\n",
            "Episode 177/200, Reward: 303.0\n",
            "Episode 178/200, Reward: 205.0\n",
            "Episode 179/200, Reward: 277.0\n",
            "Episode 180/200, Reward: 221.0\n",
            "Episode 181/200, Reward: 250.0\n",
            "Episode 182/200, Reward: 232.0\n",
            "Episode 183/200, Reward: 205.0\n",
            "Episode 184/200, Reward: 222.0\n",
            "Episode 185/200, Reward: 216.0\n",
            "Episode 186/200, Reward: 197.0\n",
            "Episode 187/200, Reward: 193.0\n",
            "Episode 188/200, Reward: 241.0\n",
            "Episode 189/200, Reward: 180.0\n",
            "Episode 190/200, Reward: 204.0\n",
            "Episode 191/200, Reward: 243.0\n",
            "Episode 192/200, Reward: 179.0\n",
            "Episode 193/200, Reward: 193.0\n",
            "Episode 194/200, Reward: 175.0\n",
            "Episode 195/200, Reward: 187.0\n",
            "Episode 196/200, Reward: 174.0\n",
            "Episode 197/200, Reward: 172.0\n",
            "Episode 198/200, Reward: 176.0\n",
            "Episode 199/200, Reward: 198.0\n",
            "Episode 200/200, Reward: 178.0\n",
            "Fine-tuned model saved to /content/drive/MyDrive/Cartpole_world_model/models/policy_net_finetuned.pt\n"
          ]
        },
        {
          "output_type": "display_data",
          "data": {
            "text/plain": [
              "<Figure size 640x480 with 1 Axes>"
            ],
            "image/png": "[encoded data removed]"
          },
          "metadata": {}
        }
      ]
    },
    {
      "cell_type": "code",
      "source": [
        "%%writefile /content/drive/MyDrive/Cartpole_world_model/src/fine_tune.py\n",
        "import gymnasium as gym\n",
        "import torch\n",
        "import torch.nn as nn\n",
        "import torch.optim as optim\n",
        "import numpy as np\n",
        "import random\n",
        "import os\n",
        "import matplotlib.pyplot as plt\n",
        "from collections import deque\n",
        "\n",
        "base = \"/content/drive/MyDrive/Cartpole_world_model\"\n",
        "pretrained = f\"{base}/models/policy_net.pt\"\n",
        "finetuned = f\"{base}/models/policy_net_finetuned.pt\"\n",
        "plot_path = f\"{base}/plots/fine_tuning_rewards.png\"\n",
        "\n",
        "\n",
        "class PolicyNet(nn.Module):\n",
        "    def __init__(self):\n",
        "        super().__init__()\n",
        "        self.net = nn.Sequential(\n",
        "            nn.Linear(4, 64), nn.ReLU(),\n",
        "            nn.Linear(64, 2)\n",
        "        )\n",
        "    def forward(self, x):\n",
        "        return self.net(x)\n",
        "\n",
        "\n",
        "model = PolicyNet()\n",
        "model.load_state_dict(torch.load(pretrained))\n",
        "target = PolicyNet()\n",
        "target.load_state_dict(model.state_dict())\n",
        "target.eval()\n",
        "\n",
        "optimizer = optim.Adam(model.parameters(), lr=1e-3)\n",
        "\n",
        "\n",
        "GAMMA = 0.99\n",
        "BATCH = 64\n",
        "EPISODES = 150\n",
        "EPSILON = 0.1\n",
        "TARGET_UPDATE = 10\n",
        "REPLAY_CAP = 5000\n",
        "\n",
        "replay = deque(maxlen=REPLAY_CAP)\n",
        "env = gym.make(\"CartPole-v1\")\n",
        "reward_hist = []\n",
        "\n",
        "def select_action(state):\n",
        "    if random.random() < EPSILON:\n",
        "        return random.randrange(2)\n",
        "    with torch.no_grad():\n",
        "        q = model(torch.tensor(state, dtype=torch.float32).unsqueeze(0))\n",
        "        return int(q.argmax(dim=1).item())\n",
        "\n",
        "def optimize():\n",
        "    if len(replay) < BATCH:\n",
        "        return\n",
        "    batch = random.sample(replay, BATCH)\n",
        "    s, a, r, s2, d = zip(*batch)\n",
        "\n",
        "    s  = torch.tensor(s,  dtype=torch.float32)\n",
        "    a  = torch.tensor(a,  dtype=torch.int64).unsqueeze(1)\n",
        "    r  = torch.tensor(r,  dtype=torch.float32).unsqueeze(1)\n",
        "    s2 = torch.tensor(s2, dtype=torch.float32)\n",
        "    d  = torch.tensor(d,  dtype=torch.float32).unsqueeze(1)\n",
        "\n",
        "    q_sa = model(s).gather(1, a)\n",
        "    with torch.no_grad():\n",
        "        q_next = target(s2).max(1, keepdim=True)[0]\n",
        "        y = r + GAMMA * q_next * (1 - d)\n",
        "\n",
        "    loss = nn.MSELoss()(q_sa, y)\n",
        "    optimizer.zero_grad()\n",
        "    loss.backward()\n",
        "    optimizer.step()\n",
        "\n",
        "for ep in range(1, EPISODES+1):\n",
        "    state, _ = env.reset()\n",
        "    done = False\n",
        "    total = 0.0\n",
        "    while not done:\n",
        "        action = select_action(state)\n",
        "        ns, r, terminated, truncated, _ = env.step(action)\n",
        "        done = terminated or truncated\n",
        "        replay.append((state, action, r, ns, done))\n",
        "        state = ns\n",
        "        total += r\n",
        "        optimize()\n",
        "\n",
        "    if ep % TARGET_UPDATE == 0:\n",
        "        target.load_state_dict(model.state_dict())\n",
        "\n",
        "    reward_hist.append(total)\n",
        "    print(f\"Episode {ep}/{EPISODES} | Reward: {total}\")\n",
        "\n",
        "env.close()\n",
        "\n",
        "\n",
        "os.makedirs(f\"{base}/models\", exist_ok=True)\n",
        "torch.save(model.state_dict(), finetuned)\n",
        "print(f\"Saved fine-tuned model to: {finetuned}\")\n",
        "\n",
        "\n",
        "os.makedirs(f\"{base}/plots\", exist_ok=True)\n",
        "plt.figure()\n",
        "plt.plot(reward_hist)\n",
        "plt.xlabel(\"Episode\")\n",
        "plt.ylabel(\"Reward\")\n",
        "plt.title(\"Fine-tuning reward over episodes\")\n",
        "plt.grid(True)\n",
        "plt.savefig(plot_path, dpi=150, bbox_inches=\"tight\")\n",
        "print(f\"Saved plot to: {plot_path}\")\n",
        "\n",
        "\n"
      ],
      "metadata": {
        "colab": {
          "base_uri": "https://localhost:8080/"
        },
        "id": "96AS9oLDiCPO",
        "outputId": "518257f1-5cf6-4bc4-d76b-1044f87c2b27"
      },
      "execution_count": 82,
      "outputs": [
        {
          "output_type": "stream",
          "name": "stdout",
          "text": [
            "Overwriting /content/drive/MyDrive/Cartpole_world_model/src/fine_tune.py\n"
          ]
        }
      ]
    },
    {
      "cell_type": "code",
      "source": [
        "import gymnasium as gym\n",
        "import torch\n",
        "import torch.nn as nn\n",
        "import numpy as np\n",
        "\n",
        "base = \"/content/drive/MyDrive/Cartpole_world_model\"\n",
        "before_path = f\"{base}/models/policy_net.pt\"\n",
        "after_path  = f\"{base}/models/policy_net_finetuned.pt\"\n",
        "\n",
        "class PolicyNet(nn.Module):\n",
        "    def __init__(self):\n",
        "        super().__init__()\n",
        "        self.net = nn.Sequential(\n",
        "            nn.Linear(4, 64), nn.ReLU(),\n",
        "            nn.Linear(64, 2)\n",
        "        )\n",
        "    def forward(self, x):\n",
        "        return self.net(x)\n",
        "\n",
        "def avg_reward(model_path, episodes=20):\n",
        "    model = PolicyNet()\n",
        "    model.load_state_dict(torch.load(model_path))\n",
        "    model.eval()\n",
        "\n",
        "    env = gym.make(\"CartPole-v1\")\n",
        "    totals = []\n",
        "    for _ in range(episodes):\n",
        "        s, _ = env.reset()\n",
        "        done = False\n",
        "        total = 0.0\n",
        "        while not done:\n",
        "            with torch.no_grad():\n",
        "                a = model(torch.tensor(s, dtype=torch.float32).unsqueeze(0)).argmax(1).item()\n",
        "            s, r, term, trunc, _ = env.step(a)\n",
        "            total += r\n",
        "            done = term or trunc\n",
        "        totals.append(total)\n",
        "    env.close()\n",
        "    return float(np.mean(totals)), float(np.std(totals))\n",
        "\n",
        "before_mean, before_std = avg_reward(before_path, episodes=20)\n",
        "after_mean,  after_std  = avg_reward(after_path,  episodes=20)\n",
        "\n",
        "print(f\"Before (imitation):   avg={before_mean:.1f} ± {before_std:.1f}\")\n",
        "print(f\"After  (fine-tuned):  avg={after_mean:.1f} ± {after_std:.1f}\")"
      ],
      "metadata": {
        "colab": {
          "base_uri": "https://localhost:8080/"
        },
        "id": "LTfWOPexiHMC",
        "outputId": "5cb2e265-dde8-4be8-9835-317dc11a23db"
      },
      "execution_count": 83,
      "outputs": [
        {
          "output_type": "stream",
          "name": "stdout",
          "text": [
            "Before (imitation):   avg=9.2 ± 0.7\n",
            "After  (fine-tuned):  avg=196.8 ± 12.2\n"
          ]
        }
      ]
    },
    {
      "cell_type": "code",
      "source": [],
      "metadata": {
        "id": "yLX87e-IiKet"
      },
      "execution_count": null,
      "outputs": []
    }
  ]
}